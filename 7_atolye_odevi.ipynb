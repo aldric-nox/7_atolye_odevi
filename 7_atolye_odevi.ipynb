{
 "cells": [
  {
   "cell_type": "markdown",
   "metadata": {},
   "source": [
    "1. Sayılardan oluşan bir boyutlu array oluşturulur. Arrayi oluştururken sayıların veri tipini integer olarak belirtilir. Oluşturulan arrayin boyut, eleman sayısı bilgilerine bakılır. "
   ]
  },
  {
   "cell_type": "code",
   "execution_count": 12,
   "metadata": {},
   "outputs": [
    {
     "name": "stdout",
     "output_type": "stream",
     "text": [
      "Array: [10 20 30 40 50]\n",
      "Arrayin boyutu: 1\n",
      "Arrayin eleman sayısı: 5\n"
     ]
    }
   ],
   "source": [
    "import numpy as np\n",
    "\n",
    "array = np.array([10, 20, 30, 40, 50], dtype=np.int32)\n",
    "\n",
    "boyut = array.ndim \n",
    "eleman_sayisi = array.size \n",
    "\n",
    "print(f\"Array: {array}\")\n",
    "print(f\"Arrayin boyutu: {boyut}\")\n",
    "print(f\"Arrayin eleman sayısı: {eleman_sayisi}\")"
   ]
  },
  {
   "cell_type": "markdown",
   "metadata": {},
   "source": [
    "2. İki ve üç boyutlu arrayler oluşturulur. Bu arraylerin boyut, eleman sayısı, satır, sütun bilgilerine ulaşılır. Arrayler üzerinde indexleme ve dilimleme(slicing) işlemi yapılır. "
   ]
  },
  {
   "cell_type": "code",
   "execution_count": 13,
   "metadata": {},
   "outputs": [
    {
     "name": "stdout",
     "output_type": "stream",
     "text": [
      "3D Array: [[[ 1  2  3]\n",
      "  [ 4  5  6]\n",
      "  [ 7  8  9]]\n",
      "\n",
      " [[10 11 12]\n",
      "  [13 14 15]\n",
      "  [16 17 18]]]\n",
      "3D Arrayin boyutu: 3\n",
      "3D Arrayin eleman sayısı: 18\n",
      "3D Arrayin katman sayısı: 2\n",
      "3D Arrayin satır sayısı: 3\n",
      "3D Arrayin sütun sayısı: 3\n",
      "Indexleme:\n",
      "İlk katman, ilk satır, ilk sütun: 1\n",
      "İkinci katman, ikinci satır, ikinci sütun: 14\n",
      "Dilimleme (Slicing):\n",
      "İlk katman:  [[1 2 3]\n",
      " [4 5 6]\n",
      " [7 8 9]]\n",
      "İkinci katmanın ilk iki satırı:  [[10 11 12]\n",
      " [13 14 15]]\n"
     ]
    }
   ],
   "source": [
    "array_3d = np.array([[[1, 2, 3], [4, 5, 6], [7, 8, 9]],\n",
    "                     [[10, 11, 12], [13, 14, 15], [16, 17, 18]]], dtype=np.int32)\n",
    "\n",
    "boyut_3d = array_3d.ndim  \n",
    "eleman_sayisi_3d = array_3d.size  \n",
    "katman_sayisi_3d, satir_sayisi_3d, sutun_sayisi_3d = array_3d.shape  \n",
    "\n",
    "print(f\"3D Array: {array_3d}\")\n",
    "print(f\"3D Arrayin boyutu: {boyut_3d}\")\n",
    "print(f\"3D Arrayin eleman sayısı: {eleman_sayisi_3d}\")\n",
    "print(f\"3D Arrayin katman sayısı: {katman_sayisi_3d}\")\n",
    "print(f\"3D Arrayin satır sayısı: {satir_sayisi_3d}\")\n",
    "print(f\"3D Arrayin sütun sayısı: {sutun_sayisi_3d}\")\n",
    "\n",
    "\n",
    "print(\"Indexleme:\")\n",
    "print(f\"İlk katman, ilk satır, ilk sütun: {array_3d[0, 0, 0]}\")  \n",
    "print(f\"İkinci katman, ikinci satır, ikinci sütun: {array_3d[1, 1, 1]}\")  \n",
    "\n",
    "print(\"Dilimleme (Slicing):\")\n",
    "print(\"İlk katman: \", array_3d[0])  \n",
    "print(\"İkinci katmanın ilk iki satırı: \", array_3d[1, :2])  \n"
   ]
  },
  {
   "cell_type": "markdown",
   "metadata": {},
   "source": [
    "3. Numpy fonksiyonu kullanarak bir, iki ve üç boyutlu arrayler oluşturulur. Arrayler üzerinde indexleme ve dilimleme(slicing) işlemi yapılır "
   ]
  },
  {
   "cell_type": "code",
   "execution_count": 14,
   "metadata": {},
   "outputs": [
    {
     "name": "stdout",
     "output_type": "stream",
     "text": [
      "1D Array: [10 20 30 40 50]\n",
      "İlk eleman: 10\n",
      "Son eleman: 50\n",
      "İlk üç eleman: [10 20 30]\n",
      "Son iki eleman: [40 50]\n",
      "Ortadaki elemanlar: [20 30 40]\n"
     ]
    }
   ],
   "source": [
    "array_1d = np.array([10, 20, 30, 40, 50])\n",
    "\n",
    "print(f\"1D Array: {array_1d}\")\n",
    "print(f\"İlk eleman: {array_1d[0]}\") \n",
    "print(f\"Son eleman: {array_1d[-1]}\") \n",
    "\n",
    "\n",
    "print(f\"İlk üç eleman: {array_1d[:3]}\") \n",
    "print(f\"Son iki eleman: {array_1d[-2:]}\") \n",
    "print(f\"Ortadaki elemanlar: {array_1d[1:4]}\") "
   ]
  },
  {
   "cell_type": "code",
   "execution_count": 15,
   "metadata": {},
   "outputs": [
    {
     "name": "stdout",
     "output_type": "stream",
     "text": [
      "2D Array: [[1 2 3]\n",
      " [4 5 6]]\n",
      "İlk satır, ikinci sütun: 2\n",
      "İkinci satır, üçüncü sütun: 6\n",
      "Dilimleme (Slicing):\n",
      "İlk satır: [1 2 3]\n",
      "İkinci satır: [4 5 6]\n",
      "İlk iki sütun: [[1 2]\n",
      " [4 5]]\n"
     ]
    }
   ],
   "source": [
    "array_2d = np.array([[1, 2, 3], [4, 5, 6]])\n",
    "\n",
    "\n",
    "print(f\"2D Array: {array_2d}\")\n",
    "print(f\"İlk satır, ikinci sütun: {array_2d[0, 1]}\") \n",
    "print(f\"İkinci satır, üçüncü sütun: {array_2d[1, 2]}\") \n",
    "\n",
    "print(\"Dilimleme (Slicing):\")\n",
    "print(f\"İlk satır: {array_2d[0, :]}\")  \n",
    "print(f\"İkinci satır: {array_2d[1, :]}\") \n",
    "print(f\"İlk iki sütun: {array_2d[:, :2]}\")  "
   ]
  },
  {
   "cell_type": "code",
   "execution_count": 8,
   "metadata": {},
   "outputs": [
    {
     "name": "stdout",
     "output_type": "stream",
     "text": [
      "3D Array: [[[ 1  2  3]\n",
      "  [ 4  5  6]]\n",
      "\n",
      " [[ 7  8  9]\n",
      "  [10 11 12]]]\n",
      "İlk katman, ilk satır, ikinci sütun: 2\n",
      "İkinci katman, ikinci satır, üçüncü sütun: 12\n",
      "Dilimleme (Slicing):\n",
      "İlk katman: [[1 2 3]\n",
      " [4 5 6]]\n",
      "İkinci katmanın ilk satırı: [7 8 9]\n",
      "Tüm katmanların ilk iki sütunu: [[[ 1  2]\n",
      "  [ 4  5]]\n",
      "\n",
      " [[ 7  8]\n",
      "  [10 11]]]\n"
     ]
    }
   ],
   "source": [
    "array_3d = np.array([[[1, 2, 3], [4, 5, 6]], [[7, 8, 9], [10, 11, 12]]])\n",
    "\n",
    "\n",
    "print(f\"3D Array: {array_3d}\")\n",
    "print(f\"İlk katman, ilk satır, ikinci sütun: {array_3d[0, 0, 1]}\") \n",
    "print(f\"İkinci katman, ikinci satır, üçüncü sütun: {array_3d[1, 1, 2]}\") \n",
    "\n",
    "print(\"Dilimleme (Slicing):\")\n",
    "print(f\"İlk katman: {array_3d[0, :, :]}\")\n",
    "print(f\"İkinci katmanın ilk satırı: {array_3d[1, 0, :]}\")\n",
    "print(f\"Tüm katmanların ilk iki sütunu: {array_3d[:, :, :2]}\") "
   ]
  },
  {
   "cell_type": "markdown",
   "metadata": {},
   "source": [
    "Açıklama: \n",
    "1. Bir boyutlu array (1D): np.array([10, 20, 30, 40, 50]) kullanarak bir boyutlu array oluşturduk ve üzerinde indeksleme ve dilimleme yaptık.\n",
    "2. İki boyutlu array (2D): np.array([[1, 2, 3], [4, 5, 6]]) ile iki boyutlu bir array oluşturduk. Satır ve sütun bilgilerine göre hem indexleme hem de dilimleme işlemleri yaptık.\n",
    "3. Üç boyutlu array (3D): np.array([[[1, 2, 3], [4, 5, 6]], [[7, 8, 9], [10, 11, 12]]]) ile üç boyutlu bir array oluşturduk. Üç boyutlu bir dizide, katman, satır ve sütun indekslerine göre dilimleme ve indexleme işlemlerini gerçekleştirdik."
   ]
  },
  {
   "cell_type": "markdown",
   "metadata": {},
   "source": [
    "\n",
    "-\n",
    "-\n",
    "-\n",
    "-\n",
    "-\n",
    "-\n",
    "-"
   ]
  },
  {
   "cell_type": "markdown",
   "metadata": {},
   "source": [
    "4. Sıfırlardan oluşan ve birlerden oluşan iki tane iki boyutlu array oluşturulur. Bu arrayler satır ve sütun bazında birleştirilir. "
   ]
  },
  {
   "cell_type": "code",
   "execution_count": 16,
   "metadata": {},
   "outputs": [
    {
     "name": "stdout",
     "output_type": "stream",
     "text": [
      "Sıfırlardan oluşan array:\n",
      "[[0 0 0]\n",
      " [0 0 0]]\n",
      "Birlerden oluşan array:\n",
      "[[1 1 1]\n",
      " [1 1 1]]\n",
      "Satır bazında birleştirilmiş array (dikey):\n",
      "[[0 0 0]\n",
      " [0 0 0]\n",
      " [1 1 1]\n",
      " [1 1 1]]\n",
      "Sütun bazında birleştirilmiş array (yatay):\n",
      "[[0 0 0 1 1 1]\n",
      " [0 0 0 1 1 1]]\n"
     ]
    }
   ],
   "source": [
    "zeros_array = np.zeros((2, 3), dtype=np.int32)\n",
    "print(\"Sıfırlardan oluşan array:\")\n",
    "print(zeros_array)\n",
    "\n",
    "ones_array = np.ones((2, 3), dtype=np.int32)\n",
    "print(\"Birlerden oluşan array:\")\n",
    "print(ones_array)\n",
    "\n",
    "combined_rows = np.vstack((zeros_array, ones_array))\n",
    "print(\"Satır bazında birleştirilmiş array (dikey):\")\n",
    "print(combined_rows)\n",
    "\n",
    "combined_columns = np.hstack((zeros_array, ones_array))\n",
    "print(\"Sütun bazında birleştirilmiş array (yatay):\")\n",
    "print(combined_columns)\n"
   ]
  },
  {
   "cell_type": "code",
   "execution_count": null,
   "metadata": {},
   "outputs": [],
   "source": []
  }
 ],
 "metadata": {
  "kernelspec": {
   "display_name": "base",
   "language": "python",
   "name": "python3"
  },
  "language_info": {
   "codemirror_mode": {
    "name": "ipython",
    "version": 3
   },
   "file_extension": ".py",
   "mimetype": "text/x-python",
   "name": "python",
   "nbconvert_exporter": "python",
   "pygments_lexer": "ipython3",
   "version": "3.10.9"
  }
 },
 "nbformat": 4,
 "nbformat_minor": 2
}
